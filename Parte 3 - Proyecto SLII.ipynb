{
 "cells": [
  {
   "cell_type": "markdown",
   "metadata": {},
   "source": [
    "UNIVERSIDAD GALILEO\n",
    "\n",
    "STATISTICAL LEARNING II\n",
    "\n",
    "Marco Vinicio Escalante Lara\n",
    "\n",
    "Carné: **19001148**\n",
    "\n",
    "# PARTE No. 3\n",
    "\n",
    "Red neuronal tipo recurrente para datos temporales y secuenciales.\n",
    "\n",
    "Para la elaboración de este proyecto vamos a trabajar con la predicción de goles que se anotaron en un partido, por medio de seleccionar un script de un partido de futbol en ingles, se tomo el idioma ingles ya que es el que tenemos para muchas funciones y nos sirve para poder trabajar de mejor manera, así como el script se encuentra mejor colocado, para trabara la red neuronal recurrente empleamos glove, como se podra ir viendo a lo largo de este ejercicio, nos apoyamos en ciertos documentos que mostraremos a continuación.\n",
    "\n",
    "https://machinelearningmastery.com/use-word-embedding-layers-deep-learning-keras/"
   ]
  },
  {
   "cell_type": "code",
   "execution_count": 104,
   "metadata": {},
   "outputs": [],
   "source": [
    "import numpy as np\n",
    "from keras.preprocessing.text import Tokenizer\n",
    "from keras.preprocessing import sequence\n",
    "\n",
    "from keras.models import Sequential\n",
    "from keras.layers import Dense\n",
    "from keras.layers import LSTM\n",
    "from keras.layers import Flatten\n",
    "from keras.layers.embeddings import Embedding\n",
    "from keras.initializers import Constant"
   ]
  },
  {
   "cell_type": "markdown",
   "metadata": {},
   "source": [
    "Tomamos de un script del partido entre Barcelo y Real Madrid, los datos de las veces que se mencionaba que había ocurrido un gol y se tomaron veinte palabras antes y veinte palabraas despues, para determinar si hubo o no gol, este partido en cuestion quedo 5-2"
   ]
  },
  {
   "cell_type": "code",
   "execution_count": 56,
   "metadata": {},
   "outputs": [],
   "source": [
    "# Ocurrencias de palabra \"goal\" +- 20 palabras atrás y adelante\n",
    "docs = [\"this locker room with this score lane the threat that his team have produced [music] still looking for the go-ahead goal but it defended as well as he could against the barcelona team that isn't doing too much wrong could\",\n",
    " 'come back he will tonight in his dreams now keeping a few numbers back do not want to surrender a goal before the break if they can avoid it what a sonido got the ball and neymar needed to get',\n",
    " \"be the goat as plenty of superstars out there to make the difference i think there's going to be a goal or two in this second novel but real madrid who's got the bench it could perhaps make a difference\",\n",
    " 'ricky by [applause] do not actually scored in his first two classic rows andreessen rica followed up of a game-tying goal the next year only on the warriors today i send a change between nes that and messi been going',\n",
    " \"just can't find enough rainbow on that pass to take it over the top of marcel winter capisce the breakthrough goal coming from the beheaded boy niki sanders would we're back his little boy and shakira it's a wonderful hello\",\n",
    " 'even for the costa rica man the greatest gear for the greatest game in the world at soccer calm second goal of the season for pk raqqa ditch puts it in perfectly here i said there was a golden ray',\n",
    " \"in recent years not quite back to his sevilla days we'll pass it off this time gets messy with the goal barcelona be a bit more patient not steal against roma is not the only derby of note the classical\",\n",
    " \"upstairs wanted to see a little bit more magic from this classical encounter knotted up at one won't see a goal for 56 minutes we see two and seven who is never satisfied that's for sure sounding like a man\",\n",
    " 'air set the table for kareem and the cream rises to the top again inside for iniesta when he first goal for ben zoma tying his watermark in spain still in the race for the pichichi all those looks away',\n",
    " 'juan carlos moon zuy he steps up in place of luis enrique for every set play a free-kick around the goal and also a corner that was not an accident that was purposely by design neymar came across and when',\n",
    " 'accident that was purposely by design neymar came across and when all the players were celebrating after bk scored the goal javier mascherano ran across to warn carlos and zuy and congratulated him back to you phil on the defensive',\n",
    " 'benzema the player coming out a different look they see different animal the content here to place been fitting wonderful goal scorer for real madrid he brought them back into this game gets the caned i trace from the world-class',\n",
    " 'chance for anybody once it got over and took that deflection but he catapulted that one horn when he first goal of the season in league play for benzema now this will likely push ronaldo higher up more into that',\n",
    " 'earns the whistle real question now is for real madrid how much do they want to push for a second goal as barcelona looks content to bleed another game off the schedule as he stripped conseguido again si out whines',\n",
    " \"feeds i don't see anything wrong there people i'm sorry on that angle there's nothing wrong that's a legitimately grid goal by gareth from this angle and again that's a very harsh call against the mayor breathing dragon that rises\",\n",
    " 'zinedine zidane he has come to life in the second half here on the bench for real madrid when the goal went in he celebrated with his technical staff with the substitute with everybody and he seemed to be the',\n",
    " 'with the substitute with everybody and he seemed to be the last person inside camp now that realized that the goal was disallowed it was phenomenal viewing see dan clearly furious afterwards phil thank you very much ter daughter sobrino',\n",
    " \"attempt at defending from alba and gareth again so close to not making lo do bravo and getting the go-ahead goal yet again there will be plenty to argue about back in the nation's capital oh ramos going in strong\",\n",
    " 'always categorizes not perhaps getting along with each other only got along each other lake heckle and jeckle their wonderful goal for the lead 7th minute is neymar bursting forward looking for an equaliser top of the box lays it',\n",
    " 'back messi the flex kicked off by any and cleared we still might have some change but what a huge goal for ronaldo only the eight league clásico goal he is scored but the 16th of all time only disgusting',\n",
    " 'and cleared we still might have some change but what a huge goal for ronaldo only the eight league clásico goal he is scored but the 16th of all time only disgusting chance for swat has been a push and',\n",
    " \"of it now it seems as though barcelona with a spark they've got a man advantage but they're down a goal and two minutes left of regulation did they take it too easy the 39 match unbeaten streak about to\"]"
   ]
  },
  {
   "cell_type": "code",
   "execution_count": 57,
   "metadata": {},
   "outputs": [
    {
     "data": {
      "text/plain": [
       "22"
      ]
     },
     "execution_count": 57,
     "metadata": {},
     "output_type": "execute_result"
    }
   ],
   "source": [
    "# Cantidad de frases\n",
    "len(docs)"
   ]
  },
  {
   "cell_type": "code",
   "execution_count": 72,
   "metadata": {},
   "outputs": [
    {
     "data": {
      "text/plain": [
       "array([0., 0., 0., 1., 1., 0., 0., 0., 0., 0., 1., 1., 0., 0., 1., 0., 0.,\n",
       "       0., 0., 1., 0., 1.])"
      ]
     },
     "execution_count": 72,
     "metadata": {},
     "output_type": "execute_result"
    }
   ],
   "source": [
    "# Definimos las etiquetas de gol\n",
    "# Cambiar por las que representen efectivamente un gol\n",
    "labels = np.random.choice(np.array([1., 0.]), size=len(docs), p=[0.25, 0.75])\n",
    "labels"
   ]
  },
  {
   "cell_type": "code",
   "execution_count": 76,
   "metadata": {},
   "outputs": [],
   "source": [
    "# Definiciones útiles\n",
    "MAX_SEQUENCE_LENGTH = 50\n",
    "EMBEDDING_DIM = 25"
   ]
  },
  {
   "cell_type": "code",
   "execution_count": 73,
   "metadata": {},
   "outputs": [
    {
     "name": "stdout",
     "output_type": "stream",
     "text": [
      "Tamaño del vocabulario: 394\n"
     ]
    }
   ],
   "source": [
    "# Preparar el Tokenizer\n",
    "t = Tokenizer()\n",
    "t.fit_on_texts(docs)\n",
    "# Obtener las secuencias de números\n",
    "sequences = t.texts_to_sequences(docs)\n",
    "\n",
    "# Vocabulario y tamaño del vocabulario\n",
    "word_index = t.word_index\n",
    "vocab_size = len(word_index) + 1\n",
    "print(\"Tamaño del vocabulario: %d\" % (vocab_size))\n",
    "\n",
    "# Obtener las secuencias espaciadas (o uniformes)\n",
    "data = sequence.pad_sequences(sequences, maxlen=MAX_SEQUENCE_LENGTH, padding=\"pre\")"
   ]
  },
  {
   "cell_type": "code",
   "execution_count": 74,
   "metadata": {},
   "outputs": [
    {
     "data": {
      "text/plain": [
       "array([  0,   0,   0,   0,   0,   0,   0,   0,   0,   0,  77,  15,   8,\n",
       "        51, 153,   9,  17, 154,  24, 155,   2, 156, 157,  15,  35,  16,\n",
       "        78,   6, 158,   2,   3, 159,   1, 160, 161,  36, 162, 163,  10,\n",
       "        52,   2, 164,  25,   1, 165,   5,  37, 166,   6, 167], dtype=int32)"
      ]
     },
     "execution_count": 74,
     "metadata": {},
     "output_type": "execute_result"
    }
   ],
   "source": [
    "data[1, :]"
   ]
  },
  {
   "cell_type": "code",
   "execution_count": 100,
   "metadata": {},
   "outputs": [
    {
     "data": {
      "text/plain": [
       "{'the': 1,\n",
       " 'a': 2,\n",
       " 'goal': 3,\n",
       " 'for': 4,\n",
       " 'and': 5,\n",
       " 'to': 6,\n",
       " 'that': 7,\n",
       " 'he': 8,\n",
       " 'in': 9,\n",
       " 'it': 10,\n",
       " 'of': 11,\n",
       " 'with': 12,\n",
       " 'this': 13,\n",
       " 'but': 14,\n",
       " 'back': 15,\n",
       " 'not': 16,\n",
       " 'his': 17,\n",
       " 'only': 18,\n",
       " 'as': 19,\n",
       " 'be': 20,\n",
       " 'was': 21,\n",
       " 'is': 22,\n",
       " 'see': 23,\n",
       " 'now': 24,\n",
       " 'got': 25,\n",
       " 'i': 26,\n",
       " 'real': 27,\n",
       " 'by': 28,\n",
       " 'on': 29,\n",
       " 'from': 30,\n",
       " 'again': 31,\n",
       " 'when': 32,\n",
       " 'still': 33,\n",
       " 'barcelona': 34,\n",
       " 'do': 35,\n",
       " 'they': 36,\n",
       " 'neymar': 37,\n",
       " 'there': 38,\n",
       " 'two': 39,\n",
       " 'second': 40,\n",
       " 'madrid': 41,\n",
       " 'scored': 42,\n",
       " 'up': 43,\n",
       " 'game': 44,\n",
       " 'all': 45,\n",
       " 'have': 46,\n",
       " 'could': 47,\n",
       " 'against': 48,\n",
       " 'much': 49,\n",
       " 'wrong': 50,\n",
       " 'will': 51,\n",
       " 'what': 52,\n",
       " 'out': 53,\n",
       " 'going': 54,\n",
       " 'first': 55,\n",
       " 'change': 56,\n",
       " 'been': 57,\n",
       " 'top': 58,\n",
       " 'wonderful': 59,\n",
       " 'man': 60,\n",
       " 'at': 61,\n",
       " 'here': 62,\n",
       " 'off': 63,\n",
       " 'time': 64,\n",
       " 'more': 65,\n",
       " 'we': 66,\n",
       " \"that's\": 67,\n",
       " 'across': 68,\n",
       " 'league': 69,\n",
       " 'push': 70,\n",
       " 'ronaldo': 71,\n",
       " 'team': 72,\n",
       " 'looking': 73,\n",
       " 'go': 74,\n",
       " 'ahead': 75,\n",
       " 'too': 76,\n",
       " 'come': 77,\n",
       " 'want': 78,\n",
       " 'plenty': 79,\n",
       " 'make': 80,\n",
       " 'difference': 81,\n",
       " \"there's\": 82,\n",
       " 'bench': 83,\n",
       " 'perhaps': 84,\n",
       " 'rica': 85,\n",
       " 'tying': 86,\n",
       " 'messi': 87,\n",
       " 'pass': 88,\n",
       " 'take': 89,\n",
       " 'over': 90,\n",
       " 'coming': 91,\n",
       " 'boy': 92,\n",
       " 'little': 93,\n",
       " 'greatest': 94,\n",
       " 'world': 95,\n",
       " 'season': 96,\n",
       " 'gets': 97,\n",
       " 'bit': 98,\n",
       " 'classical': 99,\n",
       " 'one': 100,\n",
       " 'minutes': 101,\n",
       " 'set': 102,\n",
       " 'rises': 103,\n",
       " 'inside': 104,\n",
       " 'looks': 105,\n",
       " 'carlos': 106,\n",
       " 'zuy': 107,\n",
       " 'place': 108,\n",
       " 'play': 109,\n",
       " 'an': 110,\n",
       " 'accident': 111,\n",
       " 'purposely': 112,\n",
       " 'design': 113,\n",
       " 'came': 114,\n",
       " 'you': 115,\n",
       " 'phil': 116,\n",
       " 'benzema': 117,\n",
       " 'different': 118,\n",
       " 'content': 119,\n",
       " 'into': 120,\n",
       " 'chance': 121,\n",
       " 'angle': 122,\n",
       " 'gareth': 123,\n",
       " 'very': 124,\n",
       " 'has': 125,\n",
       " 'substitute': 126,\n",
       " 'everybody': 127,\n",
       " 'seemed': 128,\n",
       " 'getting': 129,\n",
       " 'about': 130,\n",
       " 'along': 131,\n",
       " 'each': 132,\n",
       " 'other': 133,\n",
       " 'cleared': 134,\n",
       " 'might': 135,\n",
       " 'some': 136,\n",
       " 'huge': 137,\n",
       " 'eight': 138,\n",
       " 'clásico': 139,\n",
       " '16th': 140,\n",
       " 'disgusting': 141,\n",
       " 'locker': 142,\n",
       " 'room': 143,\n",
       " 'score': 144,\n",
       " 'lane': 145,\n",
       " 'threat': 146,\n",
       " 'produced': 147,\n",
       " 'music': 148,\n",
       " 'defended': 149,\n",
       " 'well': 150,\n",
       " \"isn't\": 151,\n",
       " 'doing': 152,\n",
       " 'tonight': 153,\n",
       " 'dreams': 154,\n",
       " 'keeping': 155,\n",
       " 'few': 156,\n",
       " 'numbers': 157,\n",
       " 'surrender': 158,\n",
       " 'before': 159,\n",
       " 'break': 160,\n",
       " 'if': 161,\n",
       " 'can': 162,\n",
       " 'avoid': 163,\n",
       " 'sonido': 164,\n",
       " 'ball': 165,\n",
       " 'needed': 166,\n",
       " 'get': 167,\n",
       " 'goat': 168,\n",
       " 'superstars': 169,\n",
       " 'think': 170,\n",
       " 'or': 171,\n",
       " 'novel': 172,\n",
       " \"who's\": 173,\n",
       " 'ricky': 174,\n",
       " 'applause': 175,\n",
       " 'actually': 176,\n",
       " 'classic': 177,\n",
       " 'rows': 178,\n",
       " 'andreessen': 179,\n",
       " 'followed': 180,\n",
       " 'next': 181,\n",
       " 'year': 182,\n",
       " 'warriors': 183,\n",
       " 'today': 184,\n",
       " 'send': 185,\n",
       " 'between': 186,\n",
       " 'nes': 187,\n",
       " 'just': 188,\n",
       " \"can't\": 189,\n",
       " 'find': 190,\n",
       " 'enough': 191,\n",
       " 'rainbow': 192,\n",
       " 'marcel': 193,\n",
       " 'winter': 194,\n",
       " 'capisce': 195,\n",
       " 'breakthrough': 196,\n",
       " 'beheaded': 197,\n",
       " 'niki': 198,\n",
       " 'sanders': 199,\n",
       " 'would': 200,\n",
       " \"we're\": 201,\n",
       " 'shakira': 202,\n",
       " \"it's\": 203,\n",
       " 'hello': 204,\n",
       " 'even': 205,\n",
       " 'costa': 206,\n",
       " 'gear': 207,\n",
       " 'soccer': 208,\n",
       " 'calm': 209,\n",
       " 'pk': 210,\n",
       " 'raqqa': 211,\n",
       " 'ditch': 212,\n",
       " 'puts': 213,\n",
       " 'perfectly': 214,\n",
       " 'said': 215,\n",
       " 'golden': 216,\n",
       " 'ray': 217,\n",
       " 'recent': 218,\n",
       " 'years': 219,\n",
       " 'quite': 220,\n",
       " 'sevilla': 221,\n",
       " 'days': 222,\n",
       " \"we'll\": 223,\n",
       " 'messy': 224,\n",
       " 'patient': 225,\n",
       " 'steal': 226,\n",
       " 'roma': 227,\n",
       " 'derby': 228,\n",
       " 'note': 229,\n",
       " 'upstairs': 230,\n",
       " 'wanted': 231,\n",
       " 'magic': 232,\n",
       " 'encounter': 233,\n",
       " 'knotted': 234,\n",
       " \"won't\": 235,\n",
       " '56': 236,\n",
       " 'seven': 237,\n",
       " 'who': 238,\n",
       " 'never': 239,\n",
       " 'satisfied': 240,\n",
       " 'sure': 241,\n",
       " 'sounding': 242,\n",
       " 'like': 243,\n",
       " 'air': 244,\n",
       " 'table': 245,\n",
       " 'kareem': 246,\n",
       " 'cream': 247,\n",
       " 'iniesta': 248,\n",
       " 'ben': 249,\n",
       " 'zoma': 250,\n",
       " 'watermark': 251,\n",
       " 'spain': 252,\n",
       " 'race': 253,\n",
       " 'pichichi': 254,\n",
       " 'those': 255,\n",
       " 'away': 256,\n",
       " 'juan': 257,\n",
       " 'moon': 258,\n",
       " 'steps': 259,\n",
       " 'luis': 260,\n",
       " 'enrique': 261,\n",
       " 'every': 262,\n",
       " 'free': 263,\n",
       " 'kick': 264,\n",
       " 'around': 265,\n",
       " 'also': 266,\n",
       " 'corner': 267,\n",
       " 'players': 268,\n",
       " 'were': 269,\n",
       " 'celebrating': 270,\n",
       " 'after': 271,\n",
       " 'bk': 272,\n",
       " 'javier': 273,\n",
       " 'mascherano': 274,\n",
       " 'ran': 275,\n",
       " 'warn': 276,\n",
       " 'congratulated': 277,\n",
       " 'him': 278,\n",
       " 'defensive': 279,\n",
       " 'player': 280,\n",
       " 'look': 281,\n",
       " 'animal': 282,\n",
       " 'fitting': 283,\n",
       " 'scorer': 284,\n",
       " 'brought': 285,\n",
       " 'them': 286,\n",
       " 'caned': 287,\n",
       " 'trace': 288,\n",
       " 'class': 289,\n",
       " 'anybody': 290,\n",
       " 'once': 291,\n",
       " 'took': 292,\n",
       " 'deflection': 293,\n",
       " 'catapulted': 294,\n",
       " 'horn': 295,\n",
       " 'likely': 296,\n",
       " 'higher': 297,\n",
       " 'earns': 298,\n",
       " 'whistle': 299,\n",
       " 'question': 300,\n",
       " 'how': 301,\n",
       " 'bleed': 302,\n",
       " 'another': 303,\n",
       " 'schedule': 304,\n",
       " 'stripped': 305,\n",
       " 'conseguido': 306,\n",
       " 'si': 307,\n",
       " 'whines': 308,\n",
       " 'feeds': 309,\n",
       " \"don't\": 310,\n",
       " 'anything': 311,\n",
       " 'people': 312,\n",
       " \"i'm\": 313,\n",
       " 'sorry': 314,\n",
       " 'nothing': 315,\n",
       " 'legitimately': 316,\n",
       " 'grid': 317,\n",
       " 'harsh': 318,\n",
       " 'call': 319,\n",
       " 'mayor': 320,\n",
       " 'breathing': 321,\n",
       " 'dragon': 322,\n",
       " 'zinedine': 323,\n",
       " 'zidane': 324,\n",
       " 'life': 325,\n",
       " 'half': 326,\n",
       " 'went': 327,\n",
       " 'celebrated': 328,\n",
       " 'technical': 329,\n",
       " 'staff': 330,\n",
       " 'last': 331,\n",
       " 'person': 332,\n",
       " 'camp': 333,\n",
       " 'realized': 334,\n",
       " 'disallowed': 335,\n",
       " 'phenomenal': 336,\n",
       " 'viewing': 337,\n",
       " 'dan': 338,\n",
       " 'clearly': 339,\n",
       " 'furious': 340,\n",
       " 'afterwards': 341,\n",
       " 'thank': 342,\n",
       " 'ter': 343,\n",
       " 'daughter': 344,\n",
       " 'sobrino': 345,\n",
       " 'attempt': 346,\n",
       " 'defending': 347,\n",
       " 'alba': 348,\n",
       " 'so': 349,\n",
       " 'close': 350,\n",
       " 'making': 351,\n",
       " 'lo': 352,\n",
       " 'bravo': 353,\n",
       " 'yet': 354,\n",
       " 'argue': 355,\n",
       " \"nation's\": 356,\n",
       " 'capital': 357,\n",
       " 'oh': 358,\n",
       " 'ramos': 359,\n",
       " 'strong': 360,\n",
       " 'always': 361,\n",
       " 'categorizes': 362,\n",
       " 'lake': 363,\n",
       " 'heckle': 364,\n",
       " 'jeckle': 365,\n",
       " 'their': 366,\n",
       " 'lead': 367,\n",
       " '7th': 368,\n",
       " 'minute': 369,\n",
       " 'bursting': 370,\n",
       " 'forward': 371,\n",
       " 'equaliser': 372,\n",
       " 'box': 373,\n",
       " 'lays': 374,\n",
       " 'flex': 375,\n",
       " 'kicked': 376,\n",
       " 'any': 377,\n",
       " 'swat': 378,\n",
       " 'seems': 379,\n",
       " 'though': 380,\n",
       " 'spark': 381,\n",
       " \"they've\": 382,\n",
       " 'advantage': 383,\n",
       " \"they're\": 384,\n",
       " 'down': 385,\n",
       " 'left': 386,\n",
       " 'regulation': 387,\n",
       " 'did': 388,\n",
       " 'easy': 389,\n",
       " '39': 390,\n",
       " 'match': 391,\n",
       " 'unbeaten': 392,\n",
       " 'streak': 393}"
      ]
     },
     "execution_count": 100,
     "metadata": {},
     "output_type": "execute_result"
    }
   ],
   "source": [
    "word_index"
   ]
  },
  {
   "cell_type": "markdown",
   "metadata": {},
   "source": [
    "## Cargar el *embedding* a la memoria"
   ]
  },
  {
   "cell_type": "code",
   "execution_count": 77,
   "metadata": {},
   "outputs": [],
   "source": [
    "from gensim.models import KeyedVectors"
   ]
  },
  {
   "cell_type": "markdown",
   "metadata": {},
   "source": [
    "Cargamos datos de un modelo que ya contaba con registros, que permite ver nuestra información de manera vectorizada, esta información se encuentra en linea y es libre, lo que hace es pasar nuestra palabra a una forma matricial que tiene distintos pesos."
   ]
  },
  {
   "cell_type": "code",
   "execution_count": 82,
   "metadata": {
    "scrolled": true
   },
   "outputs": [
    {
     "name": "stderr",
     "output_type": "stream",
     "text": [
      "/home/rrcp/anaconda3/envs/galpython/lib/python3.7/site-packages/smart_open/smart_open_lib.py:398: UserWarning: This function is deprecated, use smart_open.open instead. See the migration notes for details: https://github.com/RaRe-Technologies/smart_open/blob/master/README.rst#migrating-to-the-new-open-function\n",
      "  'See the migration notes for details: %s' % _MIGRATION_NOTES_URL\n"
     ]
    }
   ],
   "source": [
    "# Cargar el modelo Stanford Glove de Twitter\n",
    "word2vec_file = '../glove-example/glove.twitter.27B.25d.word2vec'\n",
    "glove_model = KeyedVectors.load_word2vec_format(word2vec_file, binary=False)"
   ]
  },
  {
   "cell_type": "code",
   "execution_count": 90,
   "metadata": {
    "scrolled": true
   },
   "outputs": [
    {
     "data": {
      "text/plain": [
       "array([-0.77069  ,  0.12827  ,  0.33137  ,  0.0050893, -0.47605  ,\n",
       "       -0.50116  ,  1.858    ,  1.0624   , -0.56511  ,  0.13328  ,\n",
       "       -0.41918  , -0.14195  , -2.8555   , -0.57131  , -0.13418  ,\n",
       "       -0.44922  ,  0.48591  , -0.6479   , -0.84238  ,  0.61669  ,\n",
       "       -0.19824  , -0.57967  , -0.65885  ,  0.43928  , -0.50473  ],\n",
       "      dtype=float32)"
      ]
     },
     "execution_count": 90,
     "metadata": {},
     "output_type": "execute_result"
    }
   ],
   "source": [
    "glove_model['hello']"
   ]
  },
  {
   "cell_type": "code",
   "execution_count": 91,
   "metadata": {},
   "outputs": [
    {
     "data": {
      "text/plain": [
       "array([ 1.3956  ,  0.2892  ,  0.48572 , -1.1412  ,  0.21461 ,  1.0714  ,\n",
       "        0.25408 ,  2.1181  ,  0.30252 ,  0.75955 ,  1.1299  , -0.021373,\n",
       "       -3.7757  ,  0.89387 , -0.71476 , -1.6997  , -0.42166 , -0.12601 ,\n",
       "       -1.2984  ,  0.41689 , -0.84993 , -1.5199  ,  0.40681 ,  0.15024 ,\n",
       "        0.26997 ], dtype=float32)"
      ]
     },
     "execution_count": 91,
     "metadata": {},
     "output_type": "execute_result"
    }
   ],
   "source": [
    "glove_model['<number>']"
   ]
  },
  {
   "cell_type": "code",
   "execution_count": 95,
   "metadata": {},
   "outputs": [],
   "source": [
    "# Crear una matriz de embedding para el vocabulario\n",
    "embedding_matrix = np.zeros((vocab_size, EMBEDDING_DIM))\n",
    "for word, i in word_index.items():\n",
    "    try:\n",
    "        embedding_vector = glove_model[word]\n",
    "        embedding_matrix[i] = embedding_vector\n",
    "    except KeyError:\n",
    "        # Las palabras no encontradas en el modelo glove serán cero\n",
    "        continue"
   ]
  },
  {
   "cell_type": "code",
   "execution_count": 99,
   "metadata": {},
   "outputs": [
    {
     "data": {
      "text/plain": [
       "(394, 25)"
      ]
     },
     "execution_count": 99,
     "metadata": {},
     "output_type": "execute_result"
    }
   ],
   "source": [
    "embedding_matrix.shape"
   ]
  },
  {
   "cell_type": "code",
   "execution_count": 105,
   "metadata": {},
   "outputs": [],
   "source": [
    "# Cargar la matriz de embedding en una capa de Embedding\n",
    "# Configuramos trainable = False para mantener el embedding fijo\n",
    "embedding_layer = Embedding(vocab_size, EMBEDDING_DIM,\n",
    "                            embeddings_initializer=Constant(embedding_matrix),\n",
    "                            input_length=MAX_SEQUENCE_LENGTH,\n",
    "                            trainable=False)"
   ]
  },
  {
   "cell_type": "code",
   "execution_count": 106,
   "metadata": {},
   "outputs": [
    {
     "data": {
      "text/plain": [
       "<keras.layers.embeddings.Embedding at 0x7f5b77cdbeb8>"
      ]
     },
     "execution_count": 106,
     "metadata": {},
     "output_type": "execute_result"
    }
   ],
   "source": [
    "embedding_layer"
   ]
  },
  {
   "cell_type": "markdown",
   "metadata": {},
   "source": [
    "## Definir el modelo RNN con keras"
   ]
  },
  {
   "cell_type": "code",
   "execution_count": 120,
   "metadata": {},
   "outputs": [
    {
     "name": "stdout",
     "output_type": "stream",
     "text": [
      "Model: \"sequential_8\"\n",
      "_________________________________________________________________\n",
      "Layer (type)                 Output Shape              Param #   \n",
      "=================================================================\n",
      "embedding_1 (Embedding)      (None, 50, 25)            9850      \n",
      "_________________________________________________________________\n",
      "lstm_6 (LSTM)                (None, 10)                1440      \n",
      "_________________________________________________________________\n",
      "dense_8 (Dense)              (None, 1)                 11        \n",
      "=================================================================\n",
      "Total params: 11,301\n",
      "Trainable params: 1,451\n",
      "Non-trainable params: 9,850\n",
      "_________________________________________________________________\n",
      "None\n"
     ]
    }
   ],
   "source": [
    "# Definir el modelo \n",
    "model = Sequential()\n",
    "model.add(embedding_layer)\n",
    "#model.add(Flatten())\n",
    "model.add(LSTM(10))\n",
    "model.add(Dense(1, activation='sigmoid'))\n",
    "# Compilar el modelo\n",
    "model.compile(optimizer='adam', loss='binary_crossentropy', metrics=['accuracy'])\n",
    "# Resumir el modelo\n",
    "print(model.summary())"
   ]
  },
  {
   "cell_type": "code",
   "execution_count": 132,
   "metadata": {},
   "outputs": [
    {
     "name": "stdout",
     "output_type": "stream",
     "text": [
      "Epoch 1/100\n",
      "22/22 [==============================] - 0s 2ms/step - loss: 0.5009 - acc: 0.7727\n",
      "Epoch 2/100\n",
      "22/22 [==============================] - 0s 2ms/step - loss: 0.4985 - acc: 0.7727\n",
      "Epoch 3/100\n",
      "22/22 [==============================] - 0s 2ms/step - loss: 0.4961 - acc: 0.7727\n",
      "Epoch 4/100\n",
      "22/22 [==============================] - 0s 2ms/step - loss: 0.4936 - acc: 0.7727\n",
      "Epoch 5/100\n",
      "22/22 [==============================] - 0s 2ms/step - loss: 0.4911 - acc: 0.7727\n",
      "Epoch 6/100\n",
      "22/22 [==============================] - 0s 2ms/step - loss: 0.4885 - acc: 0.7727\n",
      "Epoch 7/100\n",
      "22/22 [==============================] - 0s 2ms/step - loss: 0.4858 - acc: 0.7727\n",
      "Epoch 8/100\n",
      "22/22 [==============================] - 0s 2ms/step - loss: 0.4831 - acc: 0.7727\n",
      "Epoch 9/100\n",
      "22/22 [==============================] - 0s 2ms/step - loss: 0.4803 - acc: 0.7727\n",
      "Epoch 10/100\n",
      "22/22 [==============================] - 0s 2ms/step - loss: 0.4775 - acc: 0.7727\n",
      "Epoch 11/100\n",
      "22/22 [==============================] - 0s 2ms/step - loss: 0.4745 - acc: 0.7727\n",
      "Epoch 12/100\n",
      "22/22 [==============================] - 0s 2ms/step - loss: 0.4715 - acc: 0.7727\n",
      "Epoch 13/100\n",
      "22/22 [==============================] - 0s 2ms/step - loss: 0.4683 - acc: 0.7727\n",
      "Epoch 14/100\n",
      "22/22 [==============================] - 0s 2ms/step - loss: 0.4650 - acc: 0.7727\n",
      "Epoch 15/100\n",
      "22/22 [==============================] - 0s 2ms/step - loss: 0.4616 - acc: 0.7727\n",
      "Epoch 16/100\n",
      "22/22 [==============================] - 0s 2ms/step - loss: 0.4579 - acc: 0.8182\n",
      "Epoch 17/100\n",
      "22/22 [==============================] - 0s 2ms/step - loss: 0.4540 - acc: 0.8182\n",
      "Epoch 18/100\n",
      "22/22 [==============================] - 0s 2ms/step - loss: 0.4499 - acc: 0.8182\n",
      "Epoch 19/100\n",
      "22/22 [==============================] - 0s 2ms/step - loss: 0.4456 - acc: 0.8182\n",
      "Epoch 20/100\n",
      "22/22 [==============================] - 0s 2ms/step - loss: 0.4409 - acc: 0.8182\n",
      "Epoch 21/100\n",
      "22/22 [==============================] - 0s 2ms/step - loss: 0.4359 - acc: 0.8182\n",
      "Epoch 22/100\n",
      "22/22 [==============================] - 0s 2ms/step - loss: 0.4304 - acc: 0.8636\n",
      "Epoch 23/100\n",
      "22/22 [==============================] - 0s 2ms/step - loss: 0.4245 - acc: 0.8636\n",
      "Epoch 24/100\n",
      "22/22 [==============================] - 0s 2ms/step - loss: 0.4180 - acc: 0.8636\n",
      "Epoch 25/100\n",
      "22/22 [==============================] - 0s 2ms/step - loss: 0.4112 - acc: 0.9091\n",
      "Epoch 26/100\n",
      "22/22 [==============================] - 0s 2ms/step - loss: 0.4041 - acc: 0.9091\n",
      "Epoch 27/100\n",
      "22/22 [==============================] - 0s 2ms/step - loss: 0.3970 - acc: 0.9545\n",
      "Epoch 28/100\n",
      "22/22 [==============================] - 0s 2ms/step - loss: 0.3900 - acc: 0.9545\n",
      "Epoch 29/100\n",
      "22/22 [==============================] - 0s 2ms/step - loss: 0.3833 - acc: 0.9545\n",
      "Epoch 30/100\n",
      "22/22 [==============================] - 0s 2ms/step - loss: 0.3771 - acc: 0.9545\n",
      "Epoch 31/100\n",
      "22/22 [==============================] - 0s 2ms/step - loss: 0.3713 - acc: 0.9545\n",
      "Epoch 32/100\n",
      "22/22 [==============================] - 0s 2ms/step - loss: 0.3660 - acc: 0.9545\n",
      "Epoch 33/100\n",
      "22/22 [==============================] - 0s 2ms/step - loss: 0.3610 - acc: 0.9545\n",
      "Epoch 34/100\n",
      "22/22 [==============================] - 0s 2ms/step - loss: 0.3564 - acc: 0.9545\n",
      "Epoch 35/100\n",
      "22/22 [==============================] - 0s 2ms/step - loss: 0.3520 - acc: 0.9545\n",
      "Epoch 36/100\n",
      "22/22 [==============================] - 0s 2ms/step - loss: 0.3478 - acc: 0.9545\n",
      "Epoch 37/100\n",
      "22/22 [==============================] - 0s 3ms/step - loss: 0.3433 - acc: 0.9545\n",
      "Epoch 38/100\n",
      "22/22 [==============================] - 0s 3ms/step - loss: 0.3386 - acc: 0.9545\n",
      "Epoch 39/100\n",
      "22/22 [==============================] - 0s 2ms/step - loss: 0.3334 - acc: 0.9545\n",
      "Epoch 40/100\n",
      "22/22 [==============================] - 0s 2ms/step - loss: 0.3277 - acc: 0.9545\n",
      "Epoch 41/100\n",
      "22/22 [==============================] - 0s 2ms/step - loss: 0.3210 - acc: 0.9545\n",
      "Epoch 42/100\n",
      "22/22 [==============================] - 0s 2ms/step - loss: 0.3140 - acc: 0.9545\n",
      "Epoch 43/100\n",
      "22/22 [==============================] - 0s 2ms/step - loss: 0.3079 - acc: 0.9545\n",
      "Epoch 44/100\n",
      "22/22 [==============================] - 0s 2ms/step - loss: 0.3009 - acc: 0.9545\n",
      "Epoch 45/100\n",
      "22/22 [==============================] - 0s 2ms/step - loss: 0.2949 - acc: 0.9545\n",
      "Epoch 46/100\n",
      "22/22 [==============================] - 0s 2ms/step - loss: 0.2883 - acc: 0.9545\n",
      "Epoch 47/100\n",
      "22/22 [==============================] - 0s 2ms/step - loss: 0.2816 - acc: 1.0000\n",
      "Epoch 48/100\n",
      "22/22 [==============================] - 0s 3ms/step - loss: 0.2753 - acc: 1.0000\n",
      "Epoch 49/100\n",
      "22/22 [==============================] - 0s 3ms/step - loss: 0.2687 - acc: 1.0000\n",
      "Epoch 50/100\n",
      "22/22 [==============================] - 0s 2ms/step - loss: 0.2626 - acc: 1.0000\n",
      "Epoch 51/100\n",
      "22/22 [==============================] - 0s 3ms/step - loss: 0.2570 - acc: 1.0000\n",
      "Epoch 52/100\n",
      "22/22 [==============================] - 0s 3ms/step - loss: 0.2516 - acc: 1.0000\n",
      "Epoch 53/100\n",
      "22/22 [==============================] - 0s 2ms/step - loss: 0.2464 - acc: 1.0000\n",
      "Epoch 54/100\n",
      "22/22 [==============================] - 0s 3ms/step - loss: 0.2416 - acc: 1.0000\n",
      "Epoch 55/100\n",
      "22/22 [==============================] - 0s 3ms/step - loss: 0.2369 - acc: 1.0000\n",
      "Epoch 56/100\n",
      "22/22 [==============================] - 0s 2ms/step - loss: 0.2322 - acc: 1.0000\n",
      "Epoch 57/100\n",
      "22/22 [==============================] - 0s 2ms/step - loss: 0.2278 - acc: 1.0000\n",
      "Epoch 58/100\n",
      "22/22 [==============================] - 0s 3ms/step - loss: 0.2234 - acc: 1.0000\n",
      "Epoch 59/100\n",
      "22/22 [==============================] - 0s 3ms/step - loss: 0.2190 - acc: 1.0000\n",
      "Epoch 60/100\n",
      "22/22 [==============================] - 0s 3ms/step - loss: 0.2147 - acc: 1.0000\n",
      "Epoch 61/100\n",
      "22/22 [==============================] - 0s 2ms/step - loss: 0.2106 - acc: 1.0000\n",
      "Epoch 62/100\n",
      "22/22 [==============================] - 0s 2ms/step - loss: 0.2066 - acc: 1.0000\n",
      "Epoch 63/100\n",
      "22/22 [==============================] - 0s 2ms/step - loss: 0.2026 - acc: 1.0000\n",
      "Epoch 64/100\n",
      "22/22 [==============================] - 0s 2ms/step - loss: 0.1987 - acc: 1.0000\n",
      "Epoch 65/100\n",
      "22/22 [==============================] - 0s 1ms/step - loss: 0.1949 - acc: 1.0000\n",
      "Epoch 66/100\n",
      "22/22 [==============================] - 0s 2ms/step - loss: 0.1912 - acc: 1.0000\n",
      "Epoch 67/100\n",
      "22/22 [==============================] - 0s 2ms/step - loss: 0.1874 - acc: 1.0000\n",
      "Epoch 68/100\n",
      "22/22 [==============================] - 0s 2ms/step - loss: 0.1838 - acc: 1.0000\n",
      "Epoch 69/100\n",
      "22/22 [==============================] - 0s 2ms/step - loss: 0.1802 - acc: 1.0000\n",
      "Epoch 70/100\n",
      "22/22 [==============================] - 0s 3ms/step - loss: 0.1767 - acc: 1.0000\n",
      "Epoch 71/100\n",
      "22/22 [==============================] - 0s 2ms/step - loss: 0.1733 - acc: 1.0000\n",
      "Epoch 72/100\n",
      "22/22 [==============================] - 0s 3ms/step - loss: 0.1699 - acc: 1.0000\n",
      "Epoch 73/100\n",
      "22/22 [==============================] - 0s 3ms/step - loss: 0.1667 - acc: 1.0000\n",
      "Epoch 74/100\n",
      "22/22 [==============================] - 0s 2ms/step - loss: 0.1636 - acc: 1.0000\n",
      "Epoch 75/100\n",
      "22/22 [==============================] - 0s 2ms/step - loss: 0.1606 - acc: 1.0000\n",
      "Epoch 76/100\n",
      "22/22 [==============================] - 0s 2ms/step - loss: 0.1576 - acc: 1.0000\n",
      "Epoch 77/100\n",
      "22/22 [==============================] - 0s 2ms/step - loss: 0.1547 - acc: 1.0000\n",
      "Epoch 78/100\n",
      "22/22 [==============================] - 0s 2ms/step - loss: 0.1519 - acc: 1.0000\n",
      "Epoch 79/100\n",
      "22/22 [==============================] - 0s 2ms/step - loss: 0.1491 - acc: 1.0000\n",
      "Epoch 80/100\n",
      "22/22 [==============================] - 0s 2ms/step - loss: 0.1464 - acc: 1.0000\n",
      "Epoch 81/100\n",
      "22/22 [==============================] - 0s 2ms/step - loss: 0.1438 - acc: 1.0000\n",
      "Epoch 82/100\n",
      "22/22 [==============================] - 0s 2ms/step - loss: 0.1412 - acc: 1.0000\n",
      "Epoch 83/100\n",
      "22/22 [==============================] - 0s 2ms/step - loss: 0.1387 - acc: 1.0000\n",
      "Epoch 84/100\n",
      "22/22 [==============================] - 0s 2ms/step - loss: 0.1362 - acc: 1.0000\n",
      "Epoch 85/100\n",
      "22/22 [==============================] - 0s 2ms/step - loss: 0.1338 - acc: 1.0000\n",
      "Epoch 86/100\n",
      "22/22 [==============================] - 0s 4ms/step - loss: 0.1313 - acc: 1.0000\n",
      "Epoch 87/100\n",
      "22/22 [==============================] - 0s 2ms/step - loss: 0.1289 - acc: 1.0000\n"
     ]
    },
    {
     "name": "stdout",
     "output_type": "stream",
     "text": [
      "Epoch 88/100\n",
      "22/22 [==============================] - 0s 2ms/step - loss: 0.1264 - acc: 1.0000\n",
      "Epoch 89/100\n",
      "22/22 [==============================] - 0s 2ms/step - loss: 0.1239 - acc: 1.0000\n",
      "Epoch 90/100\n",
      "22/22 [==============================] - 0s 2ms/step - loss: 0.1214 - acc: 1.0000\n",
      "Epoch 91/100\n",
      "22/22 [==============================] - 0s 2ms/step - loss: 0.1189 - acc: 1.0000\n",
      "Epoch 92/100\n",
      "22/22 [==============================] - 0s 2ms/step - loss: 0.1164 - acc: 1.0000\n",
      "Epoch 93/100\n",
      "22/22 [==============================] - 0s 2ms/step - loss: 0.1139 - acc: 1.0000\n",
      "Epoch 94/100\n",
      "22/22 [==============================] - 0s 2ms/step - loss: 0.1115 - acc: 1.0000\n",
      "Epoch 95/100\n",
      "22/22 [==============================] - 0s 2ms/step - loss: 0.1093 - acc: 1.0000\n",
      "Epoch 96/100\n",
      "22/22 [==============================] - 0s 2ms/step - loss: 0.1073 - acc: 1.0000\n",
      "Epoch 97/100\n",
      "22/22 [==============================] - 0s 2ms/step - loss: 0.1054 - acc: 1.0000\n",
      "Epoch 98/100\n",
      "22/22 [==============================] - 0s 2ms/step - loss: 0.1035 - acc: 1.0000\n",
      "Epoch 99/100\n",
      "22/22 [==============================] - 0s 2ms/step - loss: 0.1015 - acc: 1.0000\n",
      "Epoch 100/100\n",
      "22/22 [==============================] - 0s 2ms/step - loss: 0.0997 - acc: 1.0000\n"
     ]
    },
    {
     "data": {
      "text/plain": [
       "<keras.callbacks.History at 0x7f5bae8fa860>"
      ]
     },
     "execution_count": 132,
     "metadata": {},
     "output_type": "execute_result"
    }
   ],
   "source": [
    "# Ajustar el modelo\n",
    "#model.fit(X_train, y_train, validation_data=(X_test, y_test), epochs=3, batch_size=64)\n",
    "history = model.fit(data, labels, epochs=100, batch_size=64, verbose=1)\n",
    "history"
   ]
  },
  {
   "cell_type": "code",
   "execution_count": 133,
   "metadata": {},
   "outputs": [
    {
     "data": {
      "text/plain": [
       "array([  0,   0,   0,   0,   0,   0,   0,   0,   0,  13, 142, 143,  12,\n",
       "        13, 144, 145,   1, 146,   7,  17,  72,  46, 147, 148,  33,  73,\n",
       "         4,   1,  74,  75,   3,  14,  10, 149,  19, 150,  19,   8,  47,\n",
       "        48,   1,  34,  72,   7, 151, 152,  76,  49,  50,  47], dtype=int32)"
      ]
     },
     "execution_count": 133,
     "metadata": {},
     "output_type": "execute_result"
    }
   ],
   "source": [
    "data[0]"
   ]
  },
  {
   "cell_type": "markdown",
   "metadata": {},
   "source": [
    "### Resultados\n",
    "\n",
    "A continuación se motraran los resultados de la predicción:"
   ]
  },
  {
   "cell_type": "code",
   "execution_count": 138,
   "metadata": {},
   "outputs": [
    {
     "data": {
      "text/plain": [
       "array([[0.06170386, 0.        ],\n",
       "       [0.05452693, 0.        ],\n",
       "       [0.07049164, 0.        ],\n",
       "       [0.86438251, 1.        ],\n",
       "       [0.83694518, 1.        ],\n",
       "       [0.06357151, 0.        ],\n",
       "       [0.10685599, 0.        ],\n",
       "       [0.06697136, 0.        ],\n",
       "       [0.06351531, 0.        ],\n",
       "       [0.0554477 , 0.        ],\n",
       "       [0.85882735, 1.        ],\n",
       "       [0.864223  , 1.        ],\n",
       "       [0.05386209, 0.        ],\n",
       "       [0.0580298 , 0.        ],\n",
       "       [0.83283526, 1.        ],\n",
       "       [0.06520793, 0.        ],\n",
       "       [0.05038138, 0.        ],\n",
       "       [0.07135829, 0.        ],\n",
       "       [0.05392715, 0.        ],\n",
       "       [0.82507157, 1.        ],\n",
       "       [0.05448366, 0.        ],\n",
       "       [0.8418771 , 1.        ]])"
      ]
     },
     "execution_count": 138,
     "metadata": {},
     "output_type": "execute_result"
    }
   ],
   "source": [
    "np.column_stack((model.predict(data), labels.reshape(-1, 1)))"
   ]
  },
  {
   "cell_type": "code",
   "execution_count": 144,
   "metadata": {},
   "outputs": [
    {
     "data": {
      "text/plain": [
       "array([[0.06170391]], dtype=float32)"
      ]
     },
     "execution_count": 144,
     "metadata": {},
     "output_type": "execute_result"
    }
   ],
   "source": [
    "# Para predecir un único valor\n",
    "model.predict(data[0].reshape(1, -1))"
   ]
  },
  {
   "cell_type": "markdown",
   "metadata": {},
   "source": [
    "## Conclusiones\n",
    "\n",
    "Como se puede ver en los resultados, la predicción de las ocurrencias de gol fue bastante acertada.\n",
    "\n",
    "A pesar de que estamos utilizando datos recolectados de twitter si se tiene alto indice de acierto para determinar los resultados correctos.\n",
    "\n",
    "Glove embedding nos ayuda en gran medida para trabajar este tipo de información.\n"
   ]
  }
 ],
 "metadata": {
  "kernelspec": {
   "display_name": "Python 3",
   "language": "python",
   "name": "python3"
  },
  "language_info": {
   "codemirror_mode": {
    "name": "ipython",
    "version": 3
   },
   "file_extension": ".py",
   "mimetype": "text/x-python",
   "name": "python",
   "nbconvert_exporter": "python",
   "pygments_lexer": "ipython3",
   "version": "3.7.4"
  }
 },
 "nbformat": 4,
 "nbformat_minor": 2
}
