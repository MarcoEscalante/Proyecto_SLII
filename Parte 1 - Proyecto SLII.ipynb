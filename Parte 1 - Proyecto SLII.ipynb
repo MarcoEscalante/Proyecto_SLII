{
 "cells": [
  {
   "cell_type": "markdown",
   "metadata": {},
   "source": [
    "UNIVERSIDAD GALILEO\n",
    "\n",
    "STATISTICAL LEARNING II\n",
    "\n",
    "Marco Vinicio Escalante Lara\n",
    "\n",
    "Carné: **19001148**\n",
    "\n",
    "# PARTE No. 1\n",
    "\n",
    "Feed Forward Network - Red neuronal tipo feedforward(multi-layer-perceptron)"
   ]
  },
  {
   "cell_type": "code",
   "execution_count": 93,
   "metadata": {},
   "outputs": [],
   "source": [
    "import numpy as np\n",
    "import pandas as pd\n",
    "import matplotlib.pyplot as plt\n",
    "import sklearn.metrics as mt"
   ]
  },
  {
   "cell_type": "markdown",
   "metadata": {},
   "source": [
    "## Cargamos y mostramos los datos\n",
    "\n",
    "Los datos provienen de la página https://www.kaggle.com/johnolafenwa/us-census-data, la cual ya divide el dataset en dos partes, una para entreno y la otra de prueba."
   ]
  },
  {
   "cell_type": "code",
   "execution_count": 43,
   "metadata": {},
   "outputs": [
    {
     "data": {
      "text/html": [
       "<div>\n",
       "<style scoped>\n",
       "    .dataframe tbody tr th:only-of-type {\n",
       "        vertical-align: middle;\n",
       "    }\n",
       "\n",
       "    .dataframe tbody tr th {\n",
       "        vertical-align: top;\n",
       "    }\n",
       "\n",
       "    .dataframe thead th {\n",
       "        text-align: right;\n",
       "    }\n",
       "</style>\n",
       "<table border=\"1\" class=\"dataframe\">\n",
       "  <thead>\n",
       "    <tr style=\"text-align: right;\">\n",
       "      <th></th>\n",
       "      <th>Edad</th>\n",
       "      <th>Tipo_empleo</th>\n",
       "      <th>ID</th>\n",
       "      <th>Educacion</th>\n",
       "      <th>Tiempo_estudio</th>\n",
       "      <th>Estado_civil</th>\n",
       "      <th>Tipo_trabajo</th>\n",
       "      <th>Familia</th>\n",
       "      <th>Raza</th>\n",
       "      <th>Sexo</th>\n",
       "      <th>Ganancias</th>\n",
       "      <th>Perdidas</th>\n",
       "      <th>Hora_Trabajo</th>\n",
       "      <th>Pais</th>\n",
       "      <th>Ingresos_mayores_50k</th>\n",
       "    </tr>\n",
       "  </thead>\n",
       "  <tbody>\n",
       "    <tr>\n",
       "      <td>0</td>\n",
       "      <td>25</td>\n",
       "      <td>4</td>\n",
       "      <td>226802</td>\n",
       "      <td>2</td>\n",
       "      <td>7</td>\n",
       "      <td>1</td>\n",
       "      <td>7</td>\n",
       "      <td>3</td>\n",
       "      <td>2</td>\n",
       "      <td>1</td>\n",
       "      <td>0</td>\n",
       "      <td>0</td>\n",
       "      <td>40</td>\n",
       "      <td>United-States</td>\n",
       "      <td>0</td>\n",
       "    </tr>\n",
       "    <tr>\n",
       "      <td>1</td>\n",
       "      <td>38</td>\n",
       "      <td>4</td>\n",
       "      <td>89814</td>\n",
       "      <td>4</td>\n",
       "      <td>9</td>\n",
       "      <td>2</td>\n",
       "      <td>10</td>\n",
       "      <td>1</td>\n",
       "      <td>1</td>\n",
       "      <td>1</td>\n",
       "      <td>0</td>\n",
       "      <td>0</td>\n",
       "      <td>50</td>\n",
       "      <td>United-States</td>\n",
       "      <td>0</td>\n",
       "    </tr>\n",
       "    <tr>\n",
       "      <td>2</td>\n",
       "      <td>28</td>\n",
       "      <td>2</td>\n",
       "      <td>336951</td>\n",
       "      <td>3</td>\n",
       "      <td>12</td>\n",
       "      <td>2</td>\n",
       "      <td>12</td>\n",
       "      <td>1</td>\n",
       "      <td>1</td>\n",
       "      <td>1</td>\n",
       "      <td>0</td>\n",
       "      <td>0</td>\n",
       "      <td>40</td>\n",
       "      <td>United-States</td>\n",
       "      <td>1</td>\n",
       "    </tr>\n",
       "    <tr>\n",
       "      <td>3</td>\n",
       "      <td>44</td>\n",
       "      <td>4</td>\n",
       "      <td>160323</td>\n",
       "      <td>5</td>\n",
       "      <td>10</td>\n",
       "      <td>2</td>\n",
       "      <td>7</td>\n",
       "      <td>1</td>\n",
       "      <td>2</td>\n",
       "      <td>1</td>\n",
       "      <td>7688</td>\n",
       "      <td>0</td>\n",
       "      <td>40</td>\n",
       "      <td>United-States</td>\n",
       "      <td>1</td>\n",
       "    </tr>\n",
       "    <tr>\n",
       "      <td>4</td>\n",
       "      <td>18</td>\n",
       "      <td>0</td>\n",
       "      <td>103497</td>\n",
       "      <td>5</td>\n",
       "      <td>10</td>\n",
       "      <td>1</td>\n",
       "      <td>0</td>\n",
       "      <td>3</td>\n",
       "      <td>1</td>\n",
       "      <td>0</td>\n",
       "      <td>0</td>\n",
       "      <td>0</td>\n",
       "      <td>30</td>\n",
       "      <td>United-States</td>\n",
       "      <td>0</td>\n",
       "    </tr>\n",
       "  </tbody>\n",
       "</table>\n",
       "</div>"
      ],
      "text/plain": [
       "   Edad  Tipo_empleo      ID  Educacion  Tiempo_estudio  Estado_civil  \\\n",
       "0    25            4  226802          2               7             1   \n",
       "1    38            4   89814          4               9             2   \n",
       "2    28            2  336951          3              12             2   \n",
       "3    44            4  160323          5              10             2   \n",
       "4    18            0  103497          5              10             1   \n",
       "\n",
       "   Tipo_trabajo  Familia  Raza  Sexo  Ganancias  Perdidas  Hora_Trabajo  \\\n",
       "0             7        3     2     1          0         0            40   \n",
       "1            10        1     1     1          0         0            50   \n",
       "2            12        1     1     1          0         0            40   \n",
       "3             7        1     2     1       7688         0            40   \n",
       "4             0        3     1     0          0         0            30   \n",
       "\n",
       "             Pais  Ingresos_mayores_50k  \n",
       "0   United-States                     0  \n",
       "1   United-States                     0  \n",
       "2   United-States                     1  \n",
       "3   United-States                     1  \n",
       "4   United-States                     0  "
      ]
     },
     "execution_count": 43,
     "metadata": {},
     "output_type": "execute_result"
    }
   ],
   "source": [
    "# Cargamos ambos datos, tanto la prueba como entreno\n",
    "df_test = pd.read_csv('adult-test.csv')\n",
    "df_train = pd.read_csv('adult-training.csv')\n",
    "\n",
    "df_test.head()"
   ]
  },
  {
   "cell_type": "code",
   "execution_count": 84,
   "metadata": {},
   "outputs": [
    {
     "name": "stdout",
     "output_type": "stream",
     "text": [
      "(32561, 15) (16281, 15)\n"
     ]
    }
   ],
   "source": [
    "datos_x = ['Edad', 'Tipo_empleo','Educacion','Tiempo_estudio','Estado_civil', 'Tipo_trabajo',\n",
    "           'Sexo', 'Hora_Trabajo', 'Raza', 'Familia', 'Ganancias', 'Perdidas']\n",
    "x_train=df_train[datos_x]\n",
    "x_test=df_test[datos_x]\n",
    "y_train = df_train['Ingresos_mayores_50k']\n",
    "y_test=df_test['Ingresos_mayores_50k']\n",
    "print(df_train.shape, df_test.shape)"
   ]
  },
  {
   "cell_type": "markdown",
   "metadata": {},
   "source": [
    "## Modelo de perceptrones multicapa (MLP)\n",
    "Ahora se entrenará una red neuronal artificial utilizando capas densas y función de activación softmax. La función de costos para compilar el modelo consiste en una \"categorical crossentropy\", ya que tenemos nuestro dato de salida como una variable categorica"
   ]
  },
  {
   "cell_type": "code",
   "execution_count": 24,
   "metadata": {},
   "outputs": [],
   "source": [
    "# Librerias utilazadas para nuestro modelo\n",
    "from tensorflow.python.keras.models import Sequential\n",
    "from tensorflow.python.keras.layers import Dense\n",
    "from tensorflow.python.keras.callbacks import EarlyStopping, ModelCheckpoint"
   ]
  },
  {
   "cell_type": "code",
   "execution_count": 157,
   "metadata": {},
   "outputs": [
    {
     "name": "stdout",
     "output_type": "stream",
     "text": [
      "Model: \"sequential_16\"\n",
      "_________________________________________________________________\n",
      "Layer (type)                 Output Shape              Param #   \n",
      "=================================================================\n",
      "dense_44 (Dense)             (None, 2)                 26        \n",
      "=================================================================\n",
      "Total params: 26\n",
      "Trainable params: 26\n",
      "Non-trainable params: 0\n",
      "_________________________________________________________________\n"
     ]
    }
   ],
   "source": [
    "# Definición del modelo\n",
    "model = Sequential()\n",
    "model.add(Dense(2, input_dim=x_train.shape[1], activation='softmax'))\n",
    "# Compilando el modelo          \n",
    "model.compile(optimizer='sgd', loss='categorical_crossentropy', metrics=['accuracy'])\n",
    "# Resumen del modelo\n",
    "model.summary()"
   ]
  },
  {
   "cell_type": "code",
   "execution_count": 158,
   "metadata": {},
   "outputs": [
    {
     "name": "stdout",
     "output_type": "stream",
     "text": [
      "WARNING:tensorflow:Falling back from v2 loop because of error: Failed to find data adapter that can handle input: <class 'pandas.core.frame.DataFrame'>, <class 'NoneType'>\n",
      "Train on 26048 samples, validate on 6513 samples\n",
      "Epoch 1/80\n",
      "26048/26048 [==============================] - 0s 4us/sample - loss: 3.5413 - accuracy: 0.7656 - val_loss: 3.5711 - val_accuracy: 0.7784\n",
      "Epoch 2/80\n",
      "26048/26048 [==============================] - 0s 2us/sample - loss: 3.5582 - accuracy: 0.7792 - val_loss: 3.5711 - val_accuracy: 0.7784\n",
      "Epoch 3/80\n",
      "26048/26048 [==============================] - 0s 3us/sample - loss: 3.5582 - accuracy: 0.7792 - val_loss: 3.5711 - val_accuracy: 0.7784\n",
      "Epoch 4/80\n",
      "26048/26048 [==============================] - 0s 3us/sample - loss: 3.5581 - accuracy: 0.7792 - val_loss: 3.5711 - val_accuracy: 0.7784\n",
      "Epoch 5/80\n",
      "26048/26048 [==============================] - 0s 3us/sample - loss: 3.5581 - accuracy: 0.7792 - val_loss: 3.5711 - val_accuracy: 0.7784\n",
      "Epoch 6/80\n",
      "26048/26048 [==============================] - 0s 5us/sample - loss: 3.5581 - accuracy: 0.7792 - val_loss: 3.5711 - val_accuracy: 0.7784\n",
      "Epoch 7/80\n",
      "26048/26048 [==============================] - 0s 5us/sample - loss: 3.5581 - accuracy: 0.7792 - val_loss: 3.5711 - val_accuracy: 0.7784\n",
      "Epoch 8/80\n",
      "26048/26048 [==============================] - 0s 5us/sample - loss: 3.5581 - accuracy: 0.7792 - val_loss: 3.5711 - val_accuracy: 0.7784\n",
      "Epoch 9/80\n",
      "26048/26048 [==============================] - 0s 5us/sample - loss: 3.5580 - accuracy: 0.7792 - val_loss: 3.5711 - val_accuracy: 0.7784\n",
      "Epoch 10/80\n",
      "26048/26048 [==============================] - 0s 5us/sample - loss: 3.5580 - accuracy: 0.7792 - val_loss: 3.5711 - val_accuracy: 0.7784\n",
      "Epoch 11/80\n",
      "26048/26048 [==============================] - 0s 4us/sample - loss: 3.5580 - accuracy: 0.7792 - val_loss: 3.5711 - val_accuracy: 0.7784\n",
      "Epoch 12/80\n",
      "26048/26048 [==============================] - 0s 4us/sample - loss: 3.5580 - accuracy: 0.7792 - val_loss: 3.5711 - val_accuracy: 0.7784\n",
      "Epoch 13/80\n",
      "26048/26048 [==============================] - 0s 3us/sample - loss: 3.5580 - accuracy: 0.7792 - val_loss: 3.5711 - val_accuracy: 0.7784\n",
      "Epoch 14/80\n",
      "26048/26048 [==============================] - 0s 2us/sample - loss: 3.5579 - accuracy: 0.7792 - val_loss: 3.5711 - val_accuracy: 0.7784\n",
      "Epoch 15/80\n",
      "26048/26048 [==============================] - 0s 3us/sample - loss: 3.5579 - accuracy: 0.7792 - val_loss: 3.5710 - val_accuracy: 0.7784\n",
      "Epoch 16/80\n",
      "26048/26048 [==============================] - 0s 2us/sample - loss: 3.5579 - accuracy: 0.7792 - val_loss: 3.5710 - val_accuracy: 0.7784\n",
      "Epoch 17/80\n",
      "26048/26048 [==============================] - 0s 3us/sample - loss: 3.5579 - accuracy: 0.7792 - val_loss: 3.5710 - val_accuracy: 0.7784\n",
      "Epoch 18/80\n",
      "26048/26048 [==============================] - 0s 3us/sample - loss: 3.5579 - accuracy: 0.7792 - val_loss: 3.5710 - val_accuracy: 0.7784\n",
      "Epoch 19/80\n",
      "26048/26048 [==============================] - 0s 3us/sample - loss: 3.5578 - accuracy: 0.7792 - val_loss: 3.5710 - val_accuracy: 0.7784\n",
      "Epoch 20/80\n",
      "26048/26048 [==============================] - 0s 4us/sample - loss: 3.5578 - accuracy: 0.7792 - val_loss: 3.5710 - val_accuracy: 0.7784\n",
      "Epoch 21/80\n",
      "26048/26048 [==============================] - 0s 5us/sample - loss: 3.5578 - accuracy: 0.7792 - val_loss: 3.5709 - val_accuracy: 0.7784\n",
      "Epoch 22/80\n",
      "26048/26048 [==============================] - 0s 5us/sample - loss: 3.5578 - accuracy: 0.7792 - val_loss: 3.5709 - val_accuracy: 0.7784\n",
      "Epoch 23/80\n",
      "26048/26048 [==============================] - 0s 4us/sample - loss: 3.5577 - accuracy: 0.7792 - val_loss: 3.5709 - val_accuracy: 0.7784\n",
      "Epoch 24/80\n",
      "26048/26048 [==============================] - 0s 2us/sample - loss: 3.5577 - accuracy: 0.7792 - val_loss: 3.5708 - val_accuracy: 0.7784\n",
      "Epoch 25/80\n",
      "26048/26048 [==============================] - 0s 3us/sample - loss: 3.5577 - accuracy: 0.7792 - val_loss: 3.5708 - val_accuracy: 0.7784\n",
      "Epoch 26/80\n",
      "26048/26048 [==============================] - 0s 4us/sample - loss: 3.5576 - accuracy: 0.7792 - val_loss: 3.5707 - val_accuracy: 0.7784\n",
      "Epoch 27/80\n",
      "26048/26048 [==============================] - 0s 5us/sample - loss: 3.5576 - accuracy: 0.7792 - val_loss: 3.5706 - val_accuracy: 0.7784\n",
      "Epoch 28/80\n",
      "26048/26048 [==============================] - 0s 5us/sample - loss: 3.5575 - accuracy: 0.7792 - val_loss: 3.5706 - val_accuracy: 0.7784\n",
      "Epoch 29/80\n",
      "26048/26048 [==============================] - 0s 4us/sample - loss: 3.5574 - accuracy: 0.7792 - val_loss: 3.5705 - val_accuracy: 0.7784\n",
      "Epoch 30/80\n",
      "26048/26048 [==============================] - 0s 4us/sample - loss: 3.5574 - accuracy: 0.7792 - val_loss: 3.5704 - val_accuracy: 0.7784\n",
      "Epoch 31/80\n",
      "26048/26048 [==============================] - 0s 3us/sample - loss: 3.5572 - accuracy: 0.7792 - val_loss: 3.5702 - val_accuracy: 0.7784\n",
      "Epoch 32/80\n",
      "26048/26048 [==============================] - 0s 3us/sample - loss: 3.5570 - accuracy: 0.7792 - val_loss: 3.5700 - val_accuracy: 0.7784\n",
      "Epoch 33/80\n",
      "26048/26048 [==============================] - 0s 3us/sample - loss: 3.5567 - accuracy: 0.7792 - val_loss: 3.5697 - val_accuracy: 0.7784\n",
      "Epoch 34/80\n",
      "26048/26048 [==============================] - 0s 2us/sample - loss: 3.5561 - accuracy: 0.7792 - val_loss: 3.5692 - val_accuracy: 0.7784\n",
      "Epoch 35/80\n",
      "26048/26048 [==============================] - 0s 3us/sample - loss: 3.5550 - accuracy: 0.7792 - val_loss: 3.5673 - val_accuracy: 0.7784\n",
      "Epoch 36/80\n",
      "26048/26048 [==============================] - 0s 2us/sample - loss: 3.3985 - accuracy: 0.7563 - val_loss: 3.5711 - val_accuracy: 0.7784\n",
      "Epoch 37/80\n",
      "26048/26048 [==============================] - 0s 2us/sample - loss: 3.5571 - accuracy: 0.7793 - val_loss: 3.5711 - val_accuracy: 0.7784\n",
      "Epoch 38/80\n",
      "26048/26048 [==============================] - 0s 2us/sample - loss: 3.5568 - accuracy: 0.7793 - val_loss: 3.5711 - val_accuracy: 0.7784\n",
      "Epoch 39/80\n",
      "26048/26048 [==============================] - 0s 2us/sample - loss: 3.6470 - accuracy: 0.7735 - val_loss: 3.9596 - val_accuracy: 0.7543\n",
      "Epoch 40/80\n",
      "26048/26048 [==============================] - 0s 2us/sample - loss: 3.8618 - accuracy: 0.7604 - val_loss: 3.9596 - val_accuracy: 0.7543\n",
      "Epoch 41/80\n",
      "26048/26048 [==============================] - 0s 2us/sample - loss: 3.8618 - accuracy: 0.7604 - val_loss: 3.9596 - val_accuracy: 0.7543\n",
      "Epoch 42/80\n",
      "26048/26048 [==============================] - 0s 2us/sample - loss: 3.8618 - accuracy: 0.7604 - val_loss: 3.9596 - val_accuracy: 0.7543\n",
      "Epoch 43/80\n",
      "26048/26048 [==============================] - 0s 2us/sample - loss: 3.8618 - accuracy: 0.7604 - val_loss: 3.9596 - val_accuracy: 0.7543\n",
      "Epoch 44/80\n",
      "26048/26048 [==============================] - 0s 2us/sample - loss: 3.8618 - accuracy: 0.7604 - val_loss: 3.9596 - val_accuracy: 0.7543\n",
      "Epoch 45/80\n",
      "26048/26048 [==============================] - 0s 2us/sample - loss: 3.8618 - accuracy: 0.7604 - val_loss: 3.9596 - val_accuracy: 0.7543\n",
      "Epoch 46/80\n",
      "26048/26048 [==============================] - 0s 2us/sample - loss: 3.8618 - accuracy: 0.7604 - val_loss: 3.9596 - val_accuracy: 0.7543\n",
      "Epoch 47/80\n",
      "26048/26048 [==============================] - 0s 2us/sample - loss: 3.8618 - accuracy: 0.7604 - val_loss: 3.9596 - val_accuracy: 0.7543\n",
      "Epoch 48/80\n",
      "26048/26048 [==============================] - 0s 2us/sample - loss: 3.8618 - accuracy: 0.7604 - val_loss: 3.9596 - val_accuracy: 0.7543\n",
      "Epoch 49/80\n",
      "26048/26048 [==============================] - 0s 4us/sample - loss: 3.8618 - accuracy: 0.7604 - val_loss: 3.9596 - val_accuracy: 0.7543\n",
      "Epoch 50/80\n",
      "26048/26048 [==============================] - 0s 5us/sample - loss: 3.8618 - accuracy: 0.7604 - val_loss: 3.9596 - val_accuracy: 0.7543\n",
      "Epoch 51/80\n",
      "26048/26048 [==============================] - 0s 5us/sample - loss: 3.8618 - accuracy: 0.7604 - val_loss: 3.9596 - val_accuracy: 0.7543\n",
      "Epoch 52/80\n",
      "26048/26048 [==============================] - 0s 4us/sample - loss: 3.8618 - accuracy: 0.7604 - val_loss: 3.9596 - val_accuracy: 0.7543\n",
      "Epoch 53/80\n",
      "26048/26048 [==============================] - 0s 3us/sample - loss: 3.8618 - accuracy: 0.7604 - val_loss: 3.9596 - val_accuracy: 0.7543\n",
      "Epoch 54/80\n"
     ]
    },
    {
     "name": "stdout",
     "output_type": "stream",
     "text": [
      "26048/26048 [==============================] - 0s 2us/sample - loss: 3.8618 - accuracy: 0.7604 - val_loss: 3.9596 - val_accuracy: 0.7543\n",
      "Epoch 55/80\n",
      "26048/26048 [==============================] - 0s 3us/sample - loss: 3.8618 - accuracy: 0.7604 - val_loss: 3.9596 - val_accuracy: 0.7543\n",
      "Epoch 56/80\n",
      "26048/26048 [==============================] - 0s 2us/sample - loss: 3.8618 - accuracy: 0.7604 - val_loss: 3.9596 - val_accuracy: 0.7543\n",
      "Epoch 57/80\n",
      "26048/26048 [==============================] - 0s 2us/sample - loss: 3.8618 - accuracy: 0.7604 - val_loss: 3.9596 - val_accuracy: 0.7543\n",
      "Epoch 58/80\n",
      "26048/26048 [==============================] - 0s 5us/sample - loss: 3.8618 - accuracy: 0.7604 - val_loss: 3.9596 - val_accuracy: 0.7543\n",
      "Epoch 59/80\n",
      "26048/26048 [==============================] - 0s 5us/sample - loss: 3.8618 - accuracy: 0.7604 - val_loss: 3.9596 - val_accuracy: 0.7543\n",
      "Epoch 60/80\n",
      "26048/26048 [==============================] - 0s 5us/sample - loss: 3.8618 - accuracy: 0.7604 - val_loss: 3.9596 - val_accuracy: 0.7543\n",
      "Epoch 61/80\n",
      "26048/26048 [==============================] - 0s 4us/sample - loss: 3.8618 - accuracy: 0.7604 - val_loss: 3.9596 - val_accuracy: 0.7543\n",
      "Epoch 62/80\n",
      "26048/26048 [==============================] - 0s 3us/sample - loss: 3.8618 - accuracy: 0.7604 - val_loss: 3.9596 - val_accuracy: 0.7543\n",
      "Epoch 63/80\n",
      "26048/26048 [==============================] - 0s 2us/sample - loss: 3.8618 - accuracy: 0.7604 - val_loss: 3.9596 - val_accuracy: 0.7543\n",
      "Epoch 64/80\n",
      "26048/26048 [==============================] - 0s 2us/sample - loss: 3.8618 - accuracy: 0.7604 - val_loss: 3.9596 - val_accuracy: 0.7543\n",
      "Epoch 65/80\n",
      "26048/26048 [==============================] - 0s 2us/sample - loss: 3.8618 - accuracy: 0.7604 - val_loss: 3.9596 - val_accuracy: 0.7543\n",
      "Epoch 66/80\n",
      "26048/26048 [==============================] - 0s 4us/sample - loss: 3.8618 - accuracy: 0.7604 - val_loss: 3.9596 - val_accuracy: 0.7543\n",
      "Epoch 67/80\n",
      "26048/26048 [==============================] - 0s 5us/sample - loss: 3.8618 - accuracy: 0.7604 - val_loss: 3.9596 - val_accuracy: 0.7543\n",
      "Epoch 68/80\n",
      "26048/26048 [==============================] - 0s 5us/sample - loss: 3.8618 - accuracy: 0.7604 - val_loss: 3.9596 - val_accuracy: 0.7543\n",
      "Epoch 69/80\n",
      "26048/26048 [==============================] - 0s 5us/sample - loss: 3.8618 - accuracy: 0.7604 - val_loss: 3.9596 - val_accuracy: 0.7543\n",
      "Epoch 70/80\n",
      "26048/26048 [==============================] - 0s 4us/sample - loss: 3.8618 - accuracy: 0.7604 - val_loss: 3.9596 - val_accuracy: 0.7543\n",
      "Epoch 71/80\n",
      "26048/26048 [==============================] - 0s 3us/sample - loss: 3.8618 - accuracy: 0.7604 - val_loss: 3.9596 - val_accuracy: 0.7543\n",
      "Epoch 72/80\n",
      "26048/26048 [==============================] - 0s 3us/sample - loss: 3.8618 - accuracy: 0.7604 - val_loss: 3.9596 - val_accuracy: 0.7543\n",
      "Epoch 73/80\n",
      "26048/26048 [==============================] - 0s 2us/sample - loss: 3.8618 - accuracy: 0.7604 - val_loss: 3.9596 - val_accuracy: 0.7543\n",
      "Epoch 74/80\n",
      "26048/26048 [==============================] - 0s 2us/sample - loss: 3.8618 - accuracy: 0.7604 - val_loss: 3.9596 - val_accuracy: 0.7543\n",
      "Epoch 75/80\n",
      "26048/26048 [==============================] - 0s 2us/sample - loss: 3.8618 - accuracy: 0.7604 - val_loss: 3.9596 - val_accuracy: 0.7543\n",
      "Epoch 76/80\n",
      "26048/26048 [==============================] - 0s 2us/sample - loss: 3.8618 - accuracy: 0.7604 - val_loss: 3.9596 - val_accuracy: 0.7543\n",
      "Epoch 77/80\n",
      "26048/26048 [==============================] - 0s 2us/sample - loss: 3.8618 - accuracy: 0.7604 - val_loss: 3.9596 - val_accuracy: 0.7543\n",
      "Epoch 78/80\n",
      "26048/26048 [==============================] - 0s 2us/sample - loss: 3.8618 - accuracy: 0.7604 - val_loss: 3.9596 - val_accuracy: 0.7543\n",
      "Epoch 79/80\n",
      "26048/26048 [==============================] - 0s 2us/sample - loss: 3.8618 - accuracy: 0.7604 - val_loss: 3.9596 - val_accuracy: 0.7543\n",
      "Epoch 80/80\n",
      "26048/26048 [==============================] - 0s 2us/sample - loss: 3.8618 - accuracy: 0.7604 - val_loss: 3.9596 - val_accuracy: 0.7543\n"
     ]
    }
   ],
   "source": [
    "# Entrenando el modelo \n",
    "model.compile(optimizer='sgd', loss='sparse_categorical_crossentropy', metrics=['accuracy']) \n",
    "history = model.fit(x_train, y_train, batch_size=800, epochs=80,verbose=1, validation_split=0.2) \n"
   ]
  },
  {
   "cell_type": "code",
   "execution_count": 159,
   "metadata": {},
   "outputs": [
    {
     "name": "stdout",
     "output_type": "stream",
     "text": [
      "WARNING:tensorflow:Falling back from v2 loop because of error: Failed to find data adapter that can handle input: <class 'pandas.core.frame.DataFrame'>, <class 'NoneType'>\n",
      "Resultados del Test de score: 3.8075177237234965\n",
      "Resultados del Test accuracy: 0.76377374\n"
     ]
    }
   ],
   "source": [
    "score = model.evaluate(x_test, y_test, verbose=0) \n",
    "print('Resultados del Test de score:', score[0]) \n",
    "print('Resultados del Test accuracy:', score[1])"
   ]
  },
  {
   "cell_type": "code",
   "execution_count": 160,
   "metadata": {},
   "outputs": [
    {
     "data": {
      "image/png": "[encoded data removed]",
      "text/plain": [
       "<Figure size 1440x720 with 1 Axes>"
      ]
     },
     "metadata": {
      "needs_background": "light"
     },
     "output_type": "display_data"
    }
   ],
   "source": [
    "# Graficar la función de costo\n",
    "plt.figure(figsize=(20,10))\n",
    "plt.plot(history.history['loss'], label=\"Entreno\", color=\"b\")\n",
    "plt.plot(history.history['val_loss'], label=\"Validacion\", color = \"y\")\n",
    "plt.xlabel(\"Epoch\")\n",
    "plt.ylabel(\"Costo\");"
   ]
  },
  {
   "cell_type": "markdown",
   "metadata": {},
   "source": [
    "A pesar de que no se trata de una regresión lineal quisimos mostrar los valores de los errores medios cuadraticos y el R² para ver su comportamiento."
   ]
  },
  {
   "cell_type": "code",
   "execution_count": 161,
   "metadata": {},
   "outputs": [
    {
     "name": "stdout",
     "output_type": "stream",
     "text": [
      "RMSE= 0.4203, R^2 = 0.02\n"
     ]
    }
   ],
   "source": [
    "print(\"RMSE= %0.4f, R^2 = %0.2f\" % (np.sqrt(mt.mean_squared_error(y_test, predicts)), \n",
    "                                   r2_score(y_test, predicts)))"
   ]
  },
  {
   "cell_type": "markdown",
   "metadata": {},
   "source": [
    "## CONCLUSIONES\n",
    "\n",
    "Como pudimos ver en los resultados, en lo que respecta la exactitud, se puede ver que la misma va incrementando conforme va aumentando las corridas del mismo.\n",
    "\n",
    "El emplear los datos de manera corregida facilita la toma de desiciones, es por esto que tener una dataset lo más estructurado posible.\n",
    "\n",
    "Si se hubieran empleados feuture enginerring podrian mejorarse los resultados ya que actualmente estan los datos casi crudos sin mayor cambios.\n",
    "\n",
    "Es interesante como clasifica de bien el programa los datos con lo que trabajamos."
   ]
  }
 ],
 "metadata": {
  "kernelspec": {
   "display_name": "Python 3",
   "language": "python",
   "name": "python3"
  },
  "language_info": {
   "codemirror_mode": {
    "name": "ipython",
    "version": 3
   },
   "file_extension": ".py",
   "mimetype": "text/x-python",
   "name": "python",
   "nbconvert_exporter": "python",
   "pygments_lexer": "ipython3",
   "version": "3.7.4"
  }
 },
 "nbformat": 4,
 "nbformat_minor": 2
}
